{
 "cells": [
  {
   "cell_type": "code",
   "execution_count": null,
   "id": "82f323cc-31d0-41ab-aef2-8848a10f7f82",
   "metadata": {},
   "outputs": [],
   "source": [
    "# The first thing we want to do is import the libraries necessary for the given task \n",
    "# In this case, we import pandas since we will be analyzing and creating dataframes and any additional libraries \n",
    "# that immediately come to mind \n",
    "# --- Step 1: Import libraries ---\n",
    "\n",
    "import os \n",
    "from pathlib import Path\n",
    "import pandas as pd "
   ]
  },
  {
   "cell_type": "code",
   "execution_count": null,
   "id": "e67a1523-996b-4800-9f1a-5a8ab066fe19",
   "metadata": {},
   "outputs": [],
   "source": []
  }
 ],
 "metadata": {
  "kernelspec": {
   "display_name": "Python 3 (ipykernel)",
   "language": "python",
   "name": "python3"
  },
  "language_info": {
   "codemirror_mode": {
    "name": "ipython",
    "version": 3
   },
   "file_extension": ".py",
   "mimetype": "text/x-python",
   "name": "python",
   "nbconvert_exporter": "python",
   "pygments_lexer": "ipython3",
   "version": "3.12.7"
  }
 },
 "nbformat": 4,
 "nbformat_minor": 5
}
